{
 "cells": [
  {
   "cell_type": "code",
   "execution_count": 273,
   "metadata": {},
   "outputs": [],
   "source": [
    "import requests\n",
    "from bs4 import BeautifulSoup as bs\n",
    "import re\n",
    "import numpy as np\n",
    "from collections import defaultdict\n",
    "from selenium import webdriver\n",
    "import time"
   ]
  },
  {
   "cell_type": "code",
   "execution_count": 406,
   "metadata": {},
   "outputs": [],
   "source": [
    "def create_data_dict():\n",
    "    return defaultdict(lambda: {})"
   ]
  },
  {
   "cell_type": "code",
   "execution_count": 346,
   "metadata": {},
   "outputs": [],
   "source": [
    "def area_soup():\n",
    "    raw = requests.get('https://www.onthesnow.com/ski-resort.html')\n",
    "    return bs(raw.content, features='lxml')"
   ]
  },
  {
   "cell_type": "code",
   "execution_count": 431,
   "metadata": {},
   "outputs": [],
   "source": [
    "def get_regions(data_dict):\n",
    "    soup = area_soup()\n",
    "    regions = []\n",
    "    for x in soup.select('.country'):\n",
    "        for region in x.find('span'):\n",
    "            regions.append(region)        \n",
    "    \n",
    "    foo = []\n",
    "    for y in soup.select('.relatedRegions'):\n",
    "        sub_regions = []\n",
    "        for z in y.find_all('a'):\n",
    "            add = z['href']\n",
    "            name = z.text\n",
    "            sub_regions.append((name, add))\n",
    "        foo.append(sub_regions)\n",
    "        \n",
    "    for place, sub_regions in enumerate(foo):\n",
    "        for sub_region in sub_regions:\n",
    "            data_dict[ regions[place] ][sub_region] = {}\n",
    "        \n",
    "    return dict(data_dict)"
   ]
  },
  {
   "cell_type": "code",
   "execution_count": 457,
   "metadata": {},
   "outputs": [],
   "source": [
    "def get_resorts(data_dict):\n",
    "    for region in data_dict.keys():\n",
    "        for sub_region in data_dict[region].keys():\n",
    "            driver = webdriver.Chrome('/usr/bin/chromedriver')\n",
    "            driver.get('https://www.onthesnow.com/{}'.format(sub_region[1]))\n",
    "\n",
    "            for i in range(0,5):\n",
    "                driver.execute_script('window.scrollBy(0, 400)')\n",
    "                time.sleep(0.1)\n",
    "\n",
    "            soup = bs(driver.page_source, features='lxml')\n",
    "            for x in soup.select('.name'):\n",
    "                for web_add in x.find_all(href=True):\n",
    "                    loc_name = web_add['title']\n",
    "                    loc_path = web_add['href']\n",
    "                    \n",
    "                    data_dict[region][sub_region][(loc_name, loc_path)] = {}\n",
    "\n",
    "            driver.quit()\n",
    "            break\n",
    "        break\n",
    "    return data_dict"
   ]
  },
  {
   "cell_type": "code",
   "execution_count": 454,
   "metadata": {},
   "outputs": [],
   "source": [
    "def get_snow(data_dict):\n",
    "    for region\n",
    "    for x in soup.find_all('div', attrs={'class': 'resBox'}):\n",
    "        val_regex = 'var jssnowfalls{} = \\[(.*?)\\];'.format(year)\n",
    "        date_regex = 'var jsdates{} = \\[(.*?)\\];'.format(year)\n",
    "        m1 = re.search(val_regex, x.get_text())\n",
    "        m2 = re.search(date_regex, x.get_text())\n",
    "        if m1 and m2:\n",
    "            vals = m1.group(1).split(',')\n",
    "            dates = m2.group(1).split(',')\n",
    "\n",
    "            if len(vals) != len(dates):\n",
    "                raise ValueError('Values do not match number of dates')\n",
    "            return vals, dates"
   ]
  },
  {
   "cell_type": "code",
   "execution_count": 455,
   "metadata": {},
   "outputs": [],
   "source": [
    "def run():\n",
    "    data_dict = create_data_dict()\n",
    "    data_dict = get_regions(data_dict)\n",
    "    data_dict = get_resorts(data_dict)\n",
    "    \n",
    "    return data_dict"
   ]
  },
  {
   "cell_type": "code",
   "execution_count": 456,
   "metadata": {},
   "outputs": [
    {
     "data": {
      "text/plain": [
       "{'United States': {('Alaska',\n",
       "   '/alaska/ski-resorts.html'): {('Alyeska Resort',\n",
       "    '/alaska/alyeska-resort/ski-resort.html'): [], ('Eaglecrest Ski Area',\n",
       "    '/alaska/eaglecrest-ski-area/ski-resort.html'): [], ('Hilltop Ski Area',\n",
       "    '/alaska/hilltop-ski-area/ski-resort.html'): []},\n",
       "  ('Arizona', '/arizona/ski-resorts.html'): {},\n",
       "  ('California', '/california/ski-resorts.html'): {},\n",
       "  ('Colorado', '/colorado/ski-resorts.html'): {},\n",
       "  ('Connecticut', '/connecticut/ski-resorts.html'): {},\n",
       "  ('Idaho', '/idaho/ski-resorts.html'): {},\n",
       "  ('Illinois', '/illinois/ski-resorts.html'): {},\n",
       "  ('Indiana', '/indiana/ski-resorts.html'): {},\n",
       "  ('Iowa', '/iowa/ski-resorts.html'): {},\n",
       "  ('Maine', '/maine/ski-resorts.html'): {},\n",
       "  ('Maryland', '/maryland/ski-resorts.html'): {},\n",
       "  ('Massachusetts', '/massachusetts/ski-resorts.html'): {},\n",
       "  ('Michigan', '/michigan/ski-resorts.html'): {},\n",
       "  ('Minnesota', '/minnesota/ski-resorts.html'): {},\n",
       "  ('Missouri', '/missouri/ski-resorts.html'): {},\n",
       "  ('Montana', '/montana/ski-resorts.html'): {},\n",
       "  ('Nevada', '/nevada/ski-resorts.html'): {},\n",
       "  ('New Hampshire', '/new-hampshire/ski-resorts.html'): {},\n",
       "  ('New Jersey', '/new-jersey/ski-resorts.html'): {},\n",
       "  ('New Mexico', '/new-mexico/ski-resorts.html'): {},\n",
       "  ('New York', '/new-york/ski-resorts.html'): {},\n",
       "  ('North Carolina', '/north-carolina/ski-resorts.html'): {},\n",
       "  ('Ohio', '/ohio/ski-resorts.html'): {},\n",
       "  ('Oregon', '/oregon/ski-resorts.html'): {},\n",
       "  ('Pennsylvania', '/pennsylvania/ski-resorts.html'): {},\n",
       "  ('South Dakota', '/south-dakota/ski-resorts.html'): {},\n",
       "  ('Tennessee', '/tennessee/ski-resorts.html'): {},\n",
       "  ('Utah', '/utah/ski-resorts.html'): {},\n",
       "  ('Vermont', '/vermont/ski-resorts.html'): {},\n",
       "  ('Virginia', '/virginia/ski-resorts.html'): {},\n",
       "  ('Washington', '/washington/ski-resorts.html'): {},\n",
       "  ('West Virginia', '/west-virginia/ski-resorts.html'): {},\n",
       "  ('Wisconsin', '/wisconsin/ski-resorts.html'): {},\n",
       "  ('Wyoming', '/wyoming/ski-resorts.html'): {}},\n",
       " 'Canada': {('Alberta', '/alberta/ski-resorts.html'): {},\n",
       "  ('British Columbia', '/british-columbia/ski-resorts.html'): {},\n",
       "  ('Ontario', '/ontario/ski-resorts.html'): {},\n",
       "  ('Quebec', '/quebec/ski-resorts.html'): {}},\n",
       " 'Europe': {('Andorra', '/andorra/ski-resorts.html'): {},\n",
       "  ('Austria', '/austria/ski-resorts.html'): {},\n",
       "  ('Belgium', '/belgium/ski-resorts.html'): {},\n",
       "  ('Bulgaria', '/bulgaria/ski-resorts.html'): {},\n",
       "  ('Czech Rep.', '/czech-rep/ski-resorts.html'): {},\n",
       "  ('Finland', '/finland/ski-resorts.html'): {},\n",
       "  ('France', '/france/ski-resorts.html'): {},\n",
       "  ('Germany', '/germany/ski-resorts.html'): {},\n",
       "  ('Italy', '/italy/ski-resorts.html'): {},\n",
       "  ('Liechtenstein', '/liechtenstein/ski-resorts.html'): {},\n",
       "  ('Netherlands', '/netherlands/ski-resorts.html'): {},\n",
       "  ('Norway', '/norway/ski-resorts.html'): {},\n",
       "  ('Poland', '/poland/ski-resorts.html'): {},\n",
       "  ('Romania', '/romania/ski-resorts.html'): {},\n",
       "  ('Scotland', '/scotland/ski-resorts.html'): {},\n",
       "  ('Slovakia', '/slovakia/ski-resorts.html'): {},\n",
       "  ('Spain', '/spain/ski-resorts.html'): {},\n",
       "  ('Sweden', '/sweden/ski-resorts.html'): {},\n",
       "  ('Switzerland', '/switzerland/ski-resorts.html'): {}},\n",
       " 'South America': {('Argentina', '/argentina/ski-resorts.html'): {},\n",
       "  ('Chile', '/chile/ski-resorts.html'): {}}}"
      ]
     },
     "execution_count": 456,
     "metadata": {},
     "output_type": "execute_result"
    }
   ],
   "source": [
    "run()"
   ]
  },
  {
   "cell_type": "code",
   "execution_count": 440,
   "metadata": {},
   "outputs": [
    {
     "ename": "TypeError",
     "evalue": "list indices must be integers or slices, not tuple",
     "output_type": "error",
     "traceback": [
      "\u001b[0;31m--------------------------------------------------------------------\u001b[0m",
      "\u001b[0;31mTypeError\u001b[0m                          Traceback (most recent call last)",
      "\u001b[0;32m<ipython-input-440-3292e3adeeb1>\u001b[0m in \u001b[0;36m<module>\u001b[0;34m()\u001b[0m\n\u001b[0;32m----> 1\u001b[0;31m \u001b[0md\u001b[0m\u001b[0;34m[\u001b[0m\u001b[0;34m'United States'\u001b[0m\u001b[0;34m]\u001b[0m\u001b[0;34m[\u001b[0m\u001b[0;34m(\u001b[0m\u001b[0;34m'Alaska'\u001b[0m\u001b[0;34m,\u001b[0m \u001b[0;34m'/alaska/ski-resorts.html'\u001b[0m\u001b[0;34m)\u001b[0m\u001b[0;34m]\u001b[0m\u001b[0;34m\u001b[0m\u001b[0m\n\u001b[0m",
      "\u001b[0;31mTypeError\u001b[0m: list indices must be integers or slices, not tuple"
     ]
    }
   ],
   "source": [
    "d['United States'][('Alaska', '/alaska/ski-resorts.html')]"
   ]
  },
  {
   "cell_type": "code",
   "execution_count": 83,
   "metadata": {},
   "outputs": [],
   "source": [
    "test = '    var jssnowfalls2014 = [0,0,0,0,0,0,0,0,1,0,0,0,0,0,3,0,0,0,0,0,2,2,1,0,0,0,0,0,0,4,6,7,3,11,0,0,0,0,0,0,4,3,4,12,1,0,0,0,0,1,2,3,0,0,0,0,0,0,0,3,0,0,0,0,2,0,0,6,1,1,0,0,1,1,0,0,0,0,1,1,1,4,2,11,0,0,0,0,0,3,0,0,0,0,3,2,1,0,0,3,3,2,0,0,3,3,1,4,1,4,3,1,0,0,0,0,0,0,0,5,2,0,0,0,0,2,0,0,0,0,5,2,4,0,0,1,0,0,0,0,4,0,0,0,0,0,2,1,0,0,0,0,0,1,8,8,8,3,3,0,2,0,1,4,3,0,0,0,0,1,0,0,0,2,2,3,5,6,3,0,0,1,1,2,6,3,6,3,0,1,2,2,1,0,0,2,0,2,0,0,0,0,0,0,0,0,0,0,0,0,0,1,0,0,0,0,1,0,0,0,0,0,0,10,0,8,2,1,2,0,0,3,4,8,3,1,2,0,0,0,0,0];'"
   ]
  },
  {
   "cell_type": "code",
   "execution_count": 84,
   "metadata": {},
   "outputs": [],
   "source": [
    "m = re.match('(.*?)var jssnowfalls2014 = (.*?);', test)"
   ]
  },
  {
   "cell_type": "code",
   "execution_count": 85,
   "metadata": {},
   "outputs": [
    {
     "data": {
      "text/plain": [
       "'    var jssnowfalls2014 = [0,0,0,0,0,0,0,0,1,0,0,0,0,0,3,0,0,0,0,0,2,2,1,0,0,0,0,0,0,4,6,7,3,11,0,0,0,0,0,0,4,3,4,12,1,0,0,0,0,1,2,3,0,0,0,0,0,0,0,3,0,0,0,0,2,0,0,6,1,1,0,0,1,1,0,0,0,0,1,1,1,4,2,11,0,0,0,0,0,3,0,0,0,0,3,2,1,0,0,3,3,2,0,0,3,3,1,4,1,4,3,1,0,0,0,0,0,0,0,5,2,0,0,0,0,2,0,0,0,0,5,2,4,0,0,1,0,0,0,0,4,0,0,0,0,0,2,1,0,0,0,0,0,1,8,8,8,3,3,0,2,0,1,4,3,0,0,0,0,1,0,0,0,2,2,3,5,6,3,0,0,1,1,2,6,3,6,3,0,1,2,2,1,0,0,2,0,2,0,0,0,0,0,0,0,0,0,0,0,0,0,1,0,0,0,0,1,0,0,0,0,0,0,10,0,8,2,1,2,0,0,3,4,8,3,1,2,0,0,0,0,0];'"
      ]
     },
     "execution_count": 85,
     "metadata": {},
     "output_type": "execute_result"
    }
   ],
   "source": [
    "m.group()"
   ]
  },
  {
   "cell_type": "code",
   "execution_count": null,
   "metadata": {},
   "outputs": [],
   "source": []
  }
 ],
 "metadata": {
  "kernelspec": {
   "display_name": "Python 3",
   "language": "python",
   "name": "python3"
  },
  "language_info": {
   "codemirror_mode": {
    "name": "ipython",
    "version": 3
   },
   "file_extension": ".py",
   "mimetype": "text/x-python",
   "name": "python",
   "nbconvert_exporter": "python",
   "pygments_lexer": "ipython3",
   "version": "3.6.5"
  }
 },
 "nbformat": 4,
 "nbformat_minor": 2
}
