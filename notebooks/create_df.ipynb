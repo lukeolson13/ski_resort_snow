{
 "cells": [
  {
   "cell_type": "code",
   "execution_count": 43,
   "metadata": {},
   "outputs": [],
   "source": [
    "import pandas as pd\n",
    "import pickle\n",
    "from datetime import datetime\n",
    "import numpy as np"
   ]
  },
  {
   "cell_type": "code",
   "execution_count": 44,
   "metadata": {},
   "outputs": [],
   "source": [
    "def open_dict(input_file):\n",
    "    with open(input_file, 'rb') as f:\n",
    "        return pickle.load(f)"
   ]
  },
  {
   "cell_type": "code",
   "execution_count": 45,
   "metadata": {},
   "outputs": [],
   "source": [
    "def get_data_dict():\n",
    "     return open_dict('../data/snow.pkl')"
   ]
  },
  {
   "cell_type": "code",
   "execution_count": 73,
   "metadata": {},
   "outputs": [],
   "source": [
    "def get_dates(data_dict):\n",
    "    print('Fetching dates...')\n",
    "    dates = set()\n",
    "    for region in data_dict.keys():\n",
    "        for sub_region in data_dict[region].keys():\n",
    "            for resort in data_dict[region][sub_region].keys():\n",
    "                years = data_dict[region][sub_region][resort]\n",
    "                for year in years.keys():\n",
    "                    nanless_dates = filter(lambda v: v==v, set(years[year]['dates']))\n",
    "                    dates = dates.union(nanless_dates)\n",
    "    return sorted(list(dates))"
   ]
  },
  {
   "cell_type": "code",
   "execution_count": 47,
   "metadata": {},
   "outputs": [],
   "source": [
    "def df_shells(dates):\n",
    "    cols = ['Region', 'Sub-Region', 'Resort'] + dates\n",
    "    sf_df = pd.DataFrame(columns=cols)\n",
    "    sd_df = pd.DataFrame(columns=cols)\n",
    "    return sf_df, sd_df"
   ]
  },
  {
   "cell_type": "code",
   "execution_count": 48,
   "metadata": {},
   "outputs": [],
   "source": [
    "def date_dict_shell(dates):\n",
    "    return {k: np.nan for k in dates}"
   ]
  },
  {
   "cell_type": "code",
   "execution_count": 49,
   "metadata": {},
   "outputs": [],
   "source": [
    "def name_shell(date_shell, region, sub_region, resort):\n",
    "    sf_shell = date_shell.copy()\n",
    "    sf_shell['Region'] = region\n",
    "    sf_shell['Sub-Region'] = sub_region\n",
    "    sf_shell['Resort'] = resort\n",
    "    \n",
    "    sd_shell = sf_shell.copy()\n",
    "    \n",
    "    return sf_shell, sd_shell"
   ]
  },
  {
   "cell_type": "code",
   "execution_count": 86,
   "metadata": {},
   "outputs": [],
   "source": [
    "def pop_dfs(sf_df, sd_df, data_dict, date_shell):\n",
    "    print('Populating dataframe...')\n",
    "    i = 0\n",
    "    for region in data_dict.keys():\n",
    "        for sub_region in data_dict[region].keys():\n",
    "            for resort in data_dict[region][sub_region].keys():\n",
    "                sf_shell, sd_shell = name_shell(date_shell, region, sub_region, resort)\n",
    "                for year in data_dict[region][sub_region][resort].keys():\n",
    "                    data = data_dict[region][sub_region][resort][year]\n",
    "                    for place, date in enumerate(data['dates']):\n",
    "                        sf_shell[date] = data['snowfall'][place]\n",
    "                        sd_shell[date] = data['depth'][place]\n",
    "                sf_df = sf_df.append(pd.Series(sf_shell, name=i))\n",
    "                sd_df = sd_df.append(pd.Series(sd_shell, name=i))\n",
    "                i += 1\n",
    "    return sf_df, sd_df"
   ]
  },
  {
   "cell_type": "code",
   "execution_count": 51,
   "metadata": {},
   "outputs": [],
   "source": [
    "def to_csv(df, output_file):\n",
    "    df.to_csv(output_file, index=False)\n",
    "    print('Dataframe saved as CSV here: {}'.format(output_file))"
   ]
  },
  {
   "cell_type": "code",
   "execution_count": 75,
   "metadata": {},
   "outputs": [],
   "source": [
    "def run():\n",
    "    data_dict = get_data_dict()\n",
    "    dates = get_dates(data_dict)\n",
    "    sf_df, sd_df = df_shells(dates)\n",
    "    date_shell = date_dict_shell(dates)\n",
    "    sf_df, sd_df = pop_dfs(sf_df, sd_df, data_dict, date_shell)\n",
    "    to_csv(sf_df, '../data/snowfall.csv')\n",
    "    to_csv(sd_df, '../data/snow_depth.csv')"
   ]
  },
  {
   "cell_type": "code",
   "execution_count": null,
   "metadata": {},
   "outputs": [
    {
     "name": "stdout",
     "output_type": "stream",
     "text": [
      "Fetching dates...\n",
      "Populating dataframe...\n"
     ]
    }
   ],
   "source": [
    "run()"
   ]
  },
  {
   "cell_type": "code",
   "execution_count": 69,
   "metadata": {},
   "outputs": [
    {
     "data": {
      "text/plain": [
       "set()"
      ]
     },
     "execution_count": 69,
     "metadata": {},
     "output_type": "execute_result"
    }
   ],
   "source": [
    "a"
   ]
  },
  {
   "cell_type": "code",
   "execution_count": null,
   "metadata": {},
   "outputs": [],
   "source": []
  }
 ],
 "metadata": {
  "kernelspec": {
   "display_name": "Python 3",
   "language": "python",
   "name": "python3"
  },
  "language_info": {
   "codemirror_mode": {
    "name": "ipython",
    "version": 3
   },
   "file_extension": ".py",
   "mimetype": "text/x-python",
   "name": "python",
   "nbconvert_exporter": "python",
   "pygments_lexer": "ipython3",
   "version": "3.6.5"
  }
 },
 "nbformat": 4,
 "nbformat_minor": 2
}
